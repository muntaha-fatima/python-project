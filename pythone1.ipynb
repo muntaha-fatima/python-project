{
  "nbformat": 4,
  "nbformat_minor": 0,
  "metadata": {
    "colab": {
      "provenance": [],
      "authorship_tag": "ABX9TyPJ5jT+0ayRMCVcpx0IhF2U",
      "include_colab_link": true
    },
    "kernelspec": {
      "name": "python3",
      "display_name": "Python 3"
    },
    "language_info": {
      "name": "python"
    },
    "widgets": {
      "application/vnd.jupyter.widget-state+json": {
        "a3d3c986a9db428bb30346156135e286": {
          "model_module": "@jupyter-widgets/controls",
          "model_name": "DropdownModel",
          "model_module_version": "1.5.0",
          "state": {
            "_dom_classes": [],
            "_model_module": "@jupyter-widgets/controls",
            "_model_module_version": "1.5.0",
            "_model_name": "DropdownModel",
            "_options_labels": [
              "int",
              "float",
              "bool",
              "str",
              "list",
              "tuple",
              "dict",
              "set",
              "NoneType"
            ],
            "_view_count": null,
            "_view_module": "@jupyter-widgets/controls",
            "_view_module_version": "1.5.0",
            "_view_name": "DropdownView",
            "description": "Type:",
            "description_tooltip": null,
            "disabled": false,
            "index": 0,
            "layout": "IPY_MODEL_0a9e262660ad43cc9656f58c2eeecf25",
            "style": "IPY_MODEL_63a61a2f84c24ba9a13c02dffe726363"
          }
        },
        "0a9e262660ad43cc9656f58c2eeecf25": {
          "model_module": "@jupyter-widgets/base",
          "model_name": "LayoutModel",
          "model_module_version": "1.2.0",
          "state": {
            "_model_module": "@jupyter-widgets/base",
            "_model_module_version": "1.2.0",
            "_model_name": "LayoutModel",
            "_view_count": null,
            "_view_module": "@jupyter-widgets/base",
            "_view_module_version": "1.2.0",
            "_view_name": "LayoutView",
            "align_content": null,
            "align_items": null,
            "align_self": null,
            "border": null,
            "bottom": null,
            "display": null,
            "flex": null,
            "flex_flow": null,
            "grid_area": null,
            "grid_auto_columns": null,
            "grid_auto_flow": null,
            "grid_auto_rows": null,
            "grid_column": null,
            "grid_gap": null,
            "grid_row": null,
            "grid_template_areas": null,
            "grid_template_columns": null,
            "grid_template_rows": null,
            "height": null,
            "justify_content": null,
            "justify_items": null,
            "left": null,
            "margin": null,
            "max_height": null,
            "max_width": null,
            "min_height": null,
            "min_width": null,
            "object_fit": null,
            "object_position": null,
            "order": null,
            "overflow": null,
            "overflow_x": null,
            "overflow_y": null,
            "padding": null,
            "right": null,
            "top": null,
            "visibility": null,
            "width": null
          }
        },
        "63a61a2f84c24ba9a13c02dffe726363": {
          "model_module": "@jupyter-widgets/controls",
          "model_name": "DescriptionStyleModel",
          "model_module_version": "1.5.0",
          "state": {
            "_model_module": "@jupyter-widgets/controls",
            "_model_module_version": "1.5.0",
            "_model_name": "DescriptionStyleModel",
            "_view_count": null,
            "_view_module": "@jupyter-widgets/base",
            "_view_module_version": "1.2.0",
            "_view_name": "StyleView",
            "description_width": ""
          }
        },
        "71292f8c0ae5487eb9cd724ec200201f": {
          "model_module": "@jupyter-widgets/controls",
          "model_name": "ButtonModel",
          "model_module_version": "1.5.0",
          "state": {
            "_dom_classes": [],
            "_model_module": "@jupyter-widgets/controls",
            "_model_module_version": "1.5.0",
            "_model_name": "ButtonModel",
            "_view_count": null,
            "_view_module": "@jupyter-widgets/controls",
            "_view_module_version": "1.5.0",
            "_view_name": "ButtonView",
            "button_style": "",
            "description": "Submit Answer",
            "disabled": false,
            "icon": "",
            "layout": "IPY_MODEL_8dd615dc4fe04ab0ad544d4e62f3fcb9",
            "style": "IPY_MODEL_3febdec0522c47d18774fdf2154439da",
            "tooltip": ""
          }
        },
        "8dd615dc4fe04ab0ad544d4e62f3fcb9": {
          "model_module": "@jupyter-widgets/base",
          "model_name": "LayoutModel",
          "model_module_version": "1.2.0",
          "state": {
            "_model_module": "@jupyter-widgets/base",
            "_model_module_version": "1.2.0",
            "_model_name": "LayoutModel",
            "_view_count": null,
            "_view_module": "@jupyter-widgets/base",
            "_view_module_version": "1.2.0",
            "_view_name": "LayoutView",
            "align_content": null,
            "align_items": null,
            "align_self": null,
            "border": null,
            "bottom": null,
            "display": null,
            "flex": null,
            "flex_flow": null,
            "grid_area": null,
            "grid_auto_columns": null,
            "grid_auto_flow": null,
            "grid_auto_rows": null,
            "grid_column": null,
            "grid_gap": null,
            "grid_row": null,
            "grid_template_areas": null,
            "grid_template_columns": null,
            "grid_template_rows": null,
            "height": null,
            "justify_content": null,
            "justify_items": null,
            "left": null,
            "margin": null,
            "max_height": null,
            "max_width": null,
            "min_height": null,
            "min_width": null,
            "object_fit": null,
            "object_position": null,
            "order": null,
            "overflow": null,
            "overflow_x": null,
            "overflow_y": null,
            "padding": null,
            "right": null,
            "top": null,
            "visibility": null,
            "width": null
          }
        },
        "3febdec0522c47d18774fdf2154439da": {
          "model_module": "@jupyter-widgets/controls",
          "model_name": "ButtonStyleModel",
          "model_module_version": "1.5.0",
          "state": {
            "_model_module": "@jupyter-widgets/controls",
            "_model_module_version": "1.5.0",
            "_model_name": "ButtonStyleModel",
            "_view_count": null,
            "_view_module": "@jupyter-widgets/base",
            "_view_module_version": "1.2.0",
            "_view_name": "StyleView",
            "button_color": null,
            "font_weight": ""
          }
        }
      }
    }
  },
  "cells": [
    {
      "cell_type": "markdown",
      "metadata": {
        "id": "view-in-github",
        "colab_type": "text"
      },
      "source": [
        "<a href=\"https://colab.research.google.com/github/muntaha-fatima/python-project/blob/main/pythone1.ipynb\" target=\"_parent\"><img src=\"https://colab.research.google.com/assets/colab-badge.svg\" alt=\"Open In Colab\"/></a>"
      ]
    },
    {
      "cell_type": "code",
      "execution_count": 3,
      "metadata": {
        "colab": {
          "base_uri": "https://localhost:8080/",
          "height": 116,
          "referenced_widgets": [
            "a3d3c986a9db428bb30346156135e286",
            "0a9e262660ad43cc9656f58c2eeecf25",
            "63a61a2f84c24ba9a13c02dffe726363",
            "71292f8c0ae5487eb9cd724ec200201f",
            "8dd615dc4fe04ab0ad544d4e62f3fcb9",
            "3febdec0522c47d18774fdf2154439da"
          ]
        },
        "id": "JNQoBzhF__Bt",
        "outputId": "35172906-4e7d-4fa1-b1ae-25b070779559"
      },
      "outputs": [
        {
          "output_type": "stream",
          "name": "stdout",
          "text": [
            "\n",
            "You found a mysterious object: {1,2,3}\n"
          ]
        },
        {
          "output_type": "display_data",
          "data": {
            "text/plain": [
              "Dropdown(description='Type:', options=('int', 'float', 'bool', 'str', 'list', 'tuple', 'dict', 'set', 'NoneTyp…"
            ],
            "application/vnd.jupyter.widget-view+json": {
              "version_major": 2,
              "version_minor": 0,
              "model_id": "a3d3c986a9db428bb30346156135e286"
            }
          },
          "metadata": {}
        },
        {
          "output_type": "display_data",
          "data": {
            "text/plain": [
              "Button(description='Submit Answer', style=ButtonStyle())"
            ],
            "application/vnd.jupyter.widget-view+json": {
              "version_major": 2,
              "version_minor": 0,
              "model_id": "71292f8c0ae5487eb9cd724ec200201f"
            }
          },
          "metadata": {}
        }
      ],
      "source": [
        "import random\n",
        "from IPython.display import display\n",
        "import ipywidgets as widgets\n",
        "\n",
        "objects = [\"10\", \"3.14\", \"True\", \"'Hello'\", \"[1,2,3]\", \"(4,5)\", \"{'key': 'value'}\", \"{1,2,3}\", \"None\"]\n",
        "types = [\"int\", \"float\", \"bool\", \"str\", \"list\", \"tuple\", \"dict\", \"set\", \"NoneType\"]\n",
        "\n",
        "# Random Object\n",
        "obj = random.choice(objects)\n",
        "correct_type = types[objects.index(obj)]\n",
        "\n",
        "# Show Object\n",
        "print(f\"\\nYou found a mysterious object: {obj}\")\n",
        "\n",
        "# Dropdown for Answer\n",
        "dropdown = widgets.Dropdown(\n",
        "    options=types,\n",
        "    description='Type:',\n",
        "    disabled=False,\n",
        ")\n",
        "\n",
        "# Function to Check Answer\n",
        "def check_type(b):\n",
        "    if dropdown.value == correct_type:\n",
        "        print(\"🎉 Correct! You can proceed in the adventure.\")\n",
        "    else:\n",
        "        print(f\"🚨 Oops! The correct answer is {correct_type}. Try again!\")\n",
        "\n",
        "# Submit Button\n",
        "button = widgets.Button(description=\"Submit Answer\")\n",
        "button.on_click(check_type)\n",
        "\n",
        "# Display Widgets\n",
        "display(dropdown, button)\n"
      ]
    }
  ]
}