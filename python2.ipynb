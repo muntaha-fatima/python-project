{
  "nbformat": 4,
  "nbformat_minor": 0,
  "metadata": {
    "colab": {
      "provenance": [],
      "authorship_tag": "ABX9TyPty9A2MfxpIkLildFwEl8p",
      "include_colab_link": true
    },
    "kernelspec": {
      "name": "python3",
      "display_name": "Python 3"
    },
    "language_info": {
      "name": "python"
    },
    "widgets": {
      "application/vnd.jupyter.widget-state+json": {
        "45b3bdecfb034fcb82397c2f1b538fc3": {
          "model_module": "@jupyter-widgets/controls",
          "model_name": "RadioButtonsModel",
          "model_module_version": "1.5.0",
          "state": {
            "_dom_classes": [],
            "_model_module": "@jupyter-widgets/controls",
            "_model_module_version": "1.5.0",
            "_model_name": "RadioButtonsModel",
            "_options_labels": [
              "str",
              "bool",
              "float",
              "tuple"
            ],
            "_view_count": null,
            "_view_module": "@jupyter-widgets/controls",
            "_view_module_version": "1.5.0",
            "_view_name": "RadioButtonsView",
            "description": "Answer:",
            "description_tooltip": null,
            "disabled": false,
            "index": 1,
            "layout": "IPY_MODEL_8b5a7914a46e4137bec2671763be0f35",
            "style": "IPY_MODEL_ee1791b41c144c82816db3c8297849b9"
          }
        },
        "8b5a7914a46e4137bec2671763be0f35": {
          "model_module": "@jupyter-widgets/base",
          "model_name": "LayoutModel",
          "model_module_version": "1.2.0",
          "state": {
            "_model_module": "@jupyter-widgets/base",
            "_model_module_version": "1.2.0",
            "_model_name": "LayoutModel",
            "_view_count": null,
            "_view_module": "@jupyter-widgets/base",
            "_view_module_version": "1.2.0",
            "_view_name": "LayoutView",
            "align_content": null,
            "align_items": null,
            "align_self": null,
            "border": null,
            "bottom": null,
            "display": null,
            "flex": null,
            "flex_flow": null,
            "grid_area": null,
            "grid_auto_columns": null,
            "grid_auto_flow": null,
            "grid_auto_rows": null,
            "grid_column": null,
            "grid_gap": null,
            "grid_row": null,
            "grid_template_areas": null,
            "grid_template_columns": null,
            "grid_template_rows": null,
            "height": null,
            "justify_content": null,
            "justify_items": null,
            "left": null,
            "margin": null,
            "max_height": null,
            "max_width": null,
            "min_height": null,
            "min_width": null,
            "object_fit": null,
            "object_position": null,
            "order": null,
            "overflow": null,
            "overflow_x": null,
            "overflow_y": null,
            "padding": null,
            "right": null,
            "top": null,
            "visibility": null,
            "width": null
          }
        },
        "ee1791b41c144c82816db3c8297849b9": {
          "model_module": "@jupyter-widgets/controls",
          "model_name": "DescriptionStyleModel",
          "model_module_version": "1.5.0",
          "state": {
            "_model_module": "@jupyter-widgets/controls",
            "_model_module_version": "1.5.0",
            "_model_name": "DescriptionStyleModel",
            "_view_count": null,
            "_view_module": "@jupyter-widgets/base",
            "_view_module_version": "1.2.0",
            "_view_name": "StyleView",
            "description_width": ""
          }
        },
        "119e9c099fec46e59f4be139b0398d2d": {
          "model_module": "@jupyter-widgets/controls",
          "model_name": "ButtonModel",
          "model_module_version": "1.5.0",
          "state": {
            "_dom_classes": [],
            "_model_module": "@jupyter-widgets/controls",
            "_model_module_version": "1.5.0",
            "_model_name": "ButtonModel",
            "_view_count": null,
            "_view_module": "@jupyter-widgets/controls",
            "_view_module_version": "1.5.0",
            "_view_name": "ButtonView",
            "button_style": "",
            "description": "Submit Answer",
            "disabled": false,
            "icon": "",
            "layout": "IPY_MODEL_a1c7cf4a4ac64103a2d9d23832503b13",
            "style": "IPY_MODEL_be1656d6ac7d4427baf2de9f7274cf78",
            "tooltip": ""
          }
        },
        "a1c7cf4a4ac64103a2d9d23832503b13": {
          "model_module": "@jupyter-widgets/base",
          "model_name": "LayoutModel",
          "model_module_version": "1.2.0",
          "state": {
            "_model_module": "@jupyter-widgets/base",
            "_model_module_version": "1.2.0",
            "_model_name": "LayoutModel",
            "_view_count": null,
            "_view_module": "@jupyter-widgets/base",
            "_view_module_version": "1.2.0",
            "_view_name": "LayoutView",
            "align_content": null,
            "align_items": null,
            "align_self": null,
            "border": null,
            "bottom": null,
            "display": null,
            "flex": null,
            "flex_flow": null,
            "grid_area": null,
            "grid_auto_columns": null,
            "grid_auto_flow": null,
            "grid_auto_rows": null,
            "grid_column": null,
            "grid_gap": null,
            "grid_row": null,
            "grid_template_areas": null,
            "grid_template_columns": null,
            "grid_template_rows": null,
            "height": null,
            "justify_content": null,
            "justify_items": null,
            "left": null,
            "margin": null,
            "max_height": null,
            "max_width": null,
            "min_height": null,
            "min_width": null,
            "object_fit": null,
            "object_position": null,
            "order": null,
            "overflow": null,
            "overflow_x": null,
            "overflow_y": null,
            "padding": null,
            "right": null,
            "top": null,
            "visibility": null,
            "width": null
          }
        },
        "be1656d6ac7d4427baf2de9f7274cf78": {
          "model_module": "@jupyter-widgets/controls",
          "model_name": "ButtonStyleModel",
          "model_module_version": "1.5.0",
          "state": {
            "_model_module": "@jupyter-widgets/controls",
            "_model_module_version": "1.5.0",
            "_model_name": "ButtonStyleModel",
            "_view_count": null,
            "_view_module": "@jupyter-widgets/base",
            "_view_module_version": "1.2.0",
            "_view_name": "StyleView",
            "button_color": null,
            "font_weight": ""
          }
        }
      }
    }
  },
  "cells": [
    {
      "cell_type": "markdown",
      "metadata": {
        "id": "view-in-github",
        "colab_type": "text"
      },
      "source": [
        "<a href=\"https://colab.research.google.com/github/muntaha-fatima/python-project/blob/main/python2.ipynb\" target=\"_parent\"><img src=\"https://colab.research.google.com/assets/colab-badge.svg\" alt=\"Open In Colab\"/></a>"
      ]
    },
    {
      "cell_type": "code",
      "execution_count": 5,
      "metadata": {
        "colab": {
          "base_uri": "https://localhost:8080/",
          "height": 197,
          "referenced_widgets": [
            "45b3bdecfb034fcb82397c2f1b538fc3",
            "8b5a7914a46e4137bec2671763be0f35",
            "ee1791b41c144c82816db3c8297849b9",
            "119e9c099fec46e59f4be139b0398d2d",
            "a1c7cf4a4ac64103a2d9d23832503b13",
            "be1656d6ac7d4427baf2de9f7274cf78"
          ]
        },
        "id": "2ICJeKixNxvr",
        "outputId": "8f5c33f4-a354-4b01-badd-2eda0d798a5b"
      },
      "outputs": [
        {
          "output_type": "stream",
          "name": "stdout",
          "text": [
            "What is the data type of True?\n"
          ]
        },
        {
          "output_type": "display_data",
          "data": {
            "text/plain": [
              "RadioButtons(description='Answer:', options=('str', 'bool', 'float', 'tuple'), value='str')"
            ],
            "application/vnd.jupyter.widget-view+json": {
              "version_major": 2,
              "version_minor": 0,
              "model_id": "45b3bdecfb034fcb82397c2f1b538fc3"
            }
          },
          "metadata": {}
        },
        {
          "output_type": "display_data",
          "data": {
            "text/plain": [
              "Button(description='Submit Answer', style=ButtonStyle())"
            ],
            "application/vnd.jupyter.widget-view+json": {
              "version_major": 2,
              "version_minor": 0,
              "model_id": "119e9c099fec46e59f4be139b0398d2d"
            }
          },
          "metadata": {}
        },
        {
          "output_type": "stream",
          "name": "stdout",
          "text": [
            "❌ Wrong! The correct answer is bool\n",
            "✅ Correct!\n"
          ]
        }
      ],
      "source": [
        "import random\n",
        "from IPython.display import display\n",
        "import ipywidgets as widgets\n",
        "\n",
        "# Data Types Dictionary\n",
        "questions = {\n",
        "    \"10\": \"int\",\n",
        "    \"3.14\": \"float\",\n",
        "    \"True\": \"bool\",\n",
        "    \"'Python'\": \"str\",\n",
        "    \"[1, 2, 3]\": \"list\",\n",
        "    \"(10, 20)\": \"tuple\",\n",
        "    \"{'name': 'sana'}\": \"dict\",\n",
        "    \"{1, 2, 3}\": \"set\",\n",
        "    \"None\": \"NoneType\"\n",
        "}\n",
        "\n",
        "# Question Display\n",
        "question, answer = random.choice(list(questions.items()))\n",
        "options = random.sample(list(set(questions.values())), 4)  # Random 4 options\n",
        "if answer not in options:\n",
        "    options[0] = answer  # Ensure correct answer is in options\n",
        "random.shuffle(options)  # Shuffle options\n",
        "\n",
        "# Display Question\n",
        "print(f\"What is the data type of {question}?\")\n",
        "\n",
        "# Radio Button Widget\n",
        "choice = widgets.RadioButtons(\n",
        "    options=options,\n",
        "    description='Answer:',\n",
        "    disabled=False\n",
        ")\n",
        "\n",
        "# Function to Check Answer\n",
        "def check_answer(b):\n",
        "    if choice.value == answer:\n",
        "        print(\"✅ Correct!\")\n",
        "    else:\n",
        "        print(f\"❌ Wrong! The correct answer is {answer}\")\n",
        "\n",
        "# Button Widget\n",
        "button = widgets.Button(description=\"Submit Answer\")\n",
        "button.on_click(check_answer)\n",
        "\n",
        "# Show Widgets\n",
        "display(choice, button)\n",
        "\n"
      ]
    }
  ]
}